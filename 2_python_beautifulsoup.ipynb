{
  "nbformat": 4,
  "nbformat_minor": 0,
  "metadata": {
    "colab": {
      "provenance": [],
      "include_colab_link": true
    },
    "kernelspec": {
      "name": "python3",
      "display_name": "Python 3"
    },
    "language_info": {
      "name": "python"
    }
  },
  "cells": [
    {
      "cell_type": "markdown",
      "metadata": {
        "id": "view-in-github",
        "colab_type": "text"
      },
      "source": [
        "<a href=\"https://colab.research.google.com/github/finnkrueger/finn-krueger/blob/main/2_python_beautifulsoup.ipynb\" target=\"_parent\"><img src=\"https://colab.research.google.com/assets/colab-badge.svg\" alt=\"Open In Colab\"/></a>"
      ]
    },
    {
      "cell_type": "code",
      "execution_count": 4,
      "metadata": {
        "id": "byRxKqNN3z3J",
        "colab": {
          "base_uri": "https://localhost:8080/"
        },
        "outputId": "44b29c52-9205-40a0-81d2-feeecd13db85"
      },
      "outputs": [
        {
          "output_type": "stream",
          "name": "stdout",
          "text": [
            "Looking in indexes: https://pypi.org/simple, https://us-python.pkg.dev/colab-wheels/public/simple/\n",
            "Requirement already satisfied: bs4 in /usr/local/lib/python3.9/dist-packages (0.0.1)\n",
            "Requirement already satisfied: requests in /usr/local/lib/python3.9/dist-packages (2.27.1)\n",
            "Requirement already satisfied: beautifulsoup4 in /usr/local/lib/python3.9/dist-packages (from bs4) (4.11.2)\n",
            "Requirement already satisfied: idna<4,>=2.5 in /usr/local/lib/python3.9/dist-packages (from requests) (3.4)\n",
            "Requirement already satisfied: certifi>=2017.4.17 in /usr/local/lib/python3.9/dist-packages (from requests) (2022.12.7)\n",
            "Requirement already satisfied: urllib3<1.27,>=1.21.1 in /usr/local/lib/python3.9/dist-packages (from requests) (1.26.15)\n",
            "Requirement already satisfied: charset-normalizer~=2.0.0 in /usr/local/lib/python3.9/dist-packages (from requests) (2.0.12)\n",
            "Requirement already satisfied: soupsieve>1.2 in /usr/local/lib/python3.9/dist-packages (from beautifulsoup4->bs4) (2.4)\n"
          ]
        }
      ],
      "source": [
        "!pip install bs4 requests"
      ]
    },
    {
      "cell_type": "code",
      "source": [
        "# Import the necessary libraries\n",
        "from bs4 import BeautifulSoup\n",
        "\n",
        "# Define the HTML string\n",
        "html = \"\"\"<html><head><title>My Simple HTML Page</title></head><body><div class=\"my-class\"><span>This is some text in a span tag</span><p>This is some text in a paragraph tag</p><p>And yet again another paragraph</p></div></body></html>\"\"\""
      ],
      "metadata": {
        "id": "Ebo-w0gpQxzn"
      },
      "execution_count": 5,
      "outputs": []
    },
    {
      "cell_type": "markdown",
      "source": [],
      "metadata": {
        "id": "J7-ueUM6R8HY"
      }
    },
    {
      "cell_type": "code",
      "source": [
        "# Parse the HTML with Beautiful Soup\n",
        "soup = BeautifulSoup(html, 'html.parser')"
      ],
      "metadata": {
        "id": "UyJ-eeq7auV1"
      },
      "execution_count": null,
      "outputs": []
    },
    {
      "cell_type": "code",
      "source": [
        "print(soup.prettify())"
      ],
      "metadata": {
        "colab": {
          "base_uri": "https://localhost:8080/"
        },
        "id": "NvDPAaAkaxsm",
        "outputId": "100abf92-39f5-4dda-99c0-9a9868579235"
      },
      "execution_count": null,
      "outputs": [
        {
          "output_type": "stream",
          "name": "stdout",
          "text": [
            "<html>\n",
            " <head>\n",
            "  <title>\n",
            "   My Simple HTML Page\n",
            "  </title>\n",
            " </head>\n",
            " <body>\n",
            "  <div class=\"my-class\">\n",
            "   <span>\n",
            "    This is some text in a span tag\n",
            "   </span>\n",
            "   <p>\n",
            "    This is some text in a paragraph tag\n",
            "   </p>\n",
            "   <p>\n",
            "    And yet again another paragraph\n",
            "   </p>\n",
            "  </div>\n",
            " </body>\n",
            "</html>\n"
          ]
        }
      ]
    },
    {
      "cell_type": "code",
      "source": [
        "# Example 1: Find the first occurrence of a tag\n",
        "first_span = soup.find('span')\n",
        "print(first_span)"
      ],
      "metadata": {
        "colab": {
          "base_uri": "https://localhost:8080/"
        },
        "id": "Mnfn0CsyR8jn",
        "outputId": "70f0a977-1e40-4f1c-95cd-244423ac5af7"
      },
      "execution_count": null,
      "outputs": [
        {
          "output_type": "stream",
          "name": "stdout",
          "text": [
            "<span>This is some text in a span tag</span>\n"
          ]
        }
      ]
    },
    {
      "cell_type": "code",
      "source": [
        "# Example 2: Find all occurrences of a tag\n",
        "all_divs = soup.find_all('div')\n",
        "print(all_divs)"
      ],
      "metadata": {
        "colab": {
          "base_uri": "https://localhost:8080/"
        },
        "id": "fkX18R5YR83u",
        "outputId": "a850cd0a-9cc9-4bcb-bd7a-4345ede102fc"
      },
      "execution_count": null,
      "outputs": [
        {
          "output_type": "stream",
          "name": "stdout",
          "text": [
            "[<div class=\"my-class\"><span>This is some text in a span tag</span><p>This is some text in a paragraph tag</p><p>And yet again another paragraph</p></div>]\n"
          ]
        }
      ]
    },
    {
      "cell_type": "code",
      "source": [
        "# Example 3: Navigate to the parent tag\n",
        "parent_div = first_span.parent\n",
        "print(parent_div)\n",
        "\n"
      ],
      "metadata": {
        "colab": {
          "base_uri": "https://localhost:8080/"
        },
        "id": "T0jFn8ftR9Iy",
        "outputId": "d2872644-cb3c-453a-be3b-a3bdc7e42a4e"
      },
      "execution_count": null,
      "outputs": [
        {
          "output_type": "stream",
          "name": "stdout",
          "text": [
            "<div class=\"my-class\"><span>This is some text in a span tag</span><p>This is some text in a paragraph tag</p><p>And yet again another paragraph</p></div>\n"
          ]
        }
      ]
    },
    {
      "cell_type": "code",
      "source": [
        "# Example 4: Navigate to the next sibling tag\n",
        "next_sibling = first_span.next_sibling\n",
        "print(next_sibling)"
      ],
      "metadata": {
        "colab": {
          "base_uri": "https://localhost:8080/"
        },
        "id": "GHzFPbV-SNDC",
        "outputId": "483d260e-a6a0-4e09-b547-bd27b67cba56"
      },
      "execution_count": null,
      "outputs": [
        {
          "output_type": "stream",
          "name": "stdout",
          "text": [
            "<p>This is some text in a paragraph tag</p>\n"
          ]
        }
      ]
    },
    {
      "cell_type": "code",
      "source": [
        "# Example 5: Navigate to the previous sibling tag\n",
        "previous_sibling = next_sibling.previous_sibling\n",
        "print(previous_sibling)\n",
        "\n"
      ],
      "metadata": {
        "colab": {
          "base_uri": "https://localhost:8080/"
        },
        "id": "cCgOUOSDSNZK",
        "outputId": "e5b10c6c-24a9-4037-94e0-d068e127a84b"
      },
      "execution_count": null,
      "outputs": [
        {
          "output_type": "stream",
          "name": "stdout",
          "text": [
            "<span>This is some text in a span tag</span>\n"
          ]
        }
      ]
    },
    {
      "cell_type": "code",
      "source": [
        "# Example 6: Get the tag name\n",
        "tag_name = first_span.name\n",
        "print(tag_name)\n",
        "\n"
      ],
      "metadata": {
        "colab": {
          "base_uri": "https://localhost:8080/"
        },
        "id": "_njjMSX5SNm2",
        "outputId": "1a0cbc85-923c-44c4-c4e4-f2f6361bb927"
      },
      "execution_count": null,
      "outputs": [
        {
          "output_type": "stream",
          "name": "stdout",
          "text": [
            "span\n"
          ]
        }
      ]
    },
    {
      "cell_type": "code",
      "source": [
        "# Example 7: Get the tag attributes\n",
        "class_name = parent_div['class']\n",
        "print(class_name)\n",
        "\n"
      ],
      "metadata": {
        "colab": {
          "base_uri": "https://localhost:8080/"
        },
        "id": "S18n_tOmSNzw",
        "outputId": "2279d8d4-54c6-4363-aeea-7ce0dcfb7752"
      },
      "execution_count": null,
      "outputs": [
        {
          "output_type": "stream",
          "name": "stdout",
          "text": [
            "['my-class']\n"
          ]
        }
      ]
    },
    {
      "cell_type": "code",
      "source": [
        "# Example 8: Get the text content of a tag\n",
        "span_text = first_span.text\n",
        "print(span_text)\n",
        "\n"
      ],
      "metadata": {
        "colab": {
          "base_uri": "https://localhost:8080/"
        },
        "id": "ysnJfdsHSOBS",
        "outputId": "7fef421b-0205-4cfe-aea6-c65a4eeaffea"
      },
      "execution_count": null,
      "outputs": [
        {
          "output_type": "stream",
          "name": "stdout",
          "text": [
            "This is some text in a span tag\n"
          ]
        }
      ]
    },
    {
      "cell_type": "code",
      "source": [
        "# Example 9: Get the text content of multiple tags\n",
        "div_text = parent_div.get_text()\n",
        "print(div_text)\n",
        "\n"
      ],
      "metadata": {
        "colab": {
          "base_uri": "https://localhost:8080/"
        },
        "id": "5d2Fr1JhSOPm",
        "outputId": "26b0c551-1221-496e-9e4b-4fa5a53773bd"
      },
      "execution_count": null,
      "outputs": [
        {
          "output_type": "stream",
          "name": "stdout",
          "text": [
            "This is some text in a span tagThis is some text in a paragraph tagAnd yet again another paragraph\n"
          ]
        }
      ]
    },
    {
      "cell_type": "code",
      "source": [
        "# Example 10: Modify the HTML\n",
        "parent_div['class'] = 'new-class'\n",
        "print(parent_div)"
      ],
      "metadata": {
        "colab": {
          "base_uri": "https://localhost:8080/"
        },
        "id": "rNhAdliqSOc9",
        "outputId": "a4afcc53-bf1d-4a2c-cfb7-e099db83b629"
      },
      "execution_count": null,
      "outputs": [
        {
          "output_type": "stream",
          "name": "stdout",
          "text": [
            "<div class=\"new-class\"><span>This is some text in a span tag</span><p>This is some text in a paragraph tag</p><p>And yet again another paragraph</p></div>\n"
          ]
        }
      ]
    },
    {
      "cell_type": "code",
      "source": [
        "# Example 11: Iterate over all <p> elements in <body>\n",
        "for i, p in enumerate(soup.body.find_all('p')):\n",
        "  print(f\"{i+1}. tag: {p.name}, text:\", p.get_text())"
      ],
      "metadata": {
        "colab": {
          "base_uri": "https://localhost:8080/"
        },
        "id": "LBrNtq-wSO--",
        "outputId": "e88c14f3-5a59-45ad-8d88-7b1c9a194c7d"
      },
      "execution_count": null,
      "outputs": [
        {
          "output_type": "stream",
          "name": "stdout",
          "text": [
            "1. tag: p, text: This is some text in a paragraph tag\n",
            "2. tag: p, text: And yet again another paragraph\n"
          ]
        }
      ]
    },
    {
      "cell_type": "code",
      "source": [],
      "metadata": {
        "id": "vSIF_VolSPOo"
      },
      "execution_count": null,
      "outputs": []
    },
    {
      "cell_type": "markdown",
      "source": [
        "# Wikipedia\n",
        "\n",
        "Real-world example!\n",
        "\n",
        "We will scrape the main page of wikipedia. In doing this, we will:\n",
        "\n",
        "1. Get the featured article content\n",
        "2. Get all the `did you know` content along with some additional data\n",
        "3. Do the same as 2. but for the `in the news` sectio\n",
        "4. Repeat this process for the `on this day` section."
      ],
      "metadata": {
        "id": "Ay1mwt2OcWwp"
      }
    },
    {
      "cell_type": "code",
      "source": [
        "import requests as re"
      ],
      "metadata": {
        "id": "M08wT2e6cCX-"
      },
      "execution_count": 2,
      "outputs": []
    },
    {
      "cell_type": "code",
      "source": [
        "# Get the main page content\n",
        "req = re.get(\"https://en.wikipedia.org/wiki/Main_Page\")\n",
        "soup = BeautifulSoup(req.content, \"html.parser\")"
      ],
      "metadata": {
        "id": "Y-lPsSRNgNPb"
      },
      "execution_count": 6,
      "outputs": []
    },
    {
      "cell_type": "code",
      "source": [
        "# Get the featured article content\n",
        "featured_article_text = soup.find(class_=\"MainPageBG mp-box\").p.get_text()\n"
      ],
      "metadata": {
        "id": "iJxURNfVgQ4I"
      },
      "execution_count": 7,
      "outputs": []
    },
    {
      "cell_type": "code",
      "source": [
        "featured_article_text[:50] + '[...]'"
      ],
      "metadata": {
        "colab": {
          "base_uri": "https://localhost:8080/",
          "height": 36
        },
        "id": "CFtqqH0DiViA",
        "outputId": "6263d05a-3aca-40fe-e063-9842c2ea12a2"
      },
      "execution_count": 9,
      "outputs": [
        {
          "output_type": "execute_result",
          "data": {
            "text/plain": [
              "'Louis H. Bean (April\\xa015, 1896\\xa0– August\\xa05, 1994) wa[...]'"
            ],
            "application/vnd.google.colaboratory.intrinsic+json": {
              "type": "string"
            }
          },
          "metadata": {},
          "execution_count": 9
        }
      ]
    },
    {
      "cell_type": "code",
      "source": [
        "# Get all \"did you know\" facts\n",
        "did_you_know = soup.find(id=\"mp-dyk\").find_all(\"li\")\n",
        "\n",
        "# For each, make a tuple, that stores the text and the first link\n",
        "did_you_know_list = []\n",
        "for li in did_you_know:\n",
        "  text = li.get_text()\n",
        "  link = li.find(\"a\")[\"href\"]\n",
        "  did_you_know_list.append({\"text\": text, \"link\": link})\n",
        "\n",
        "# for each link, get the first paragraph text\n",
        "for dyk in did_you_know_list:\n",
        "  # URL suffix: '/wiki/foo_bar'\n",
        "  link = dyk['link']\n",
        "  url = f\"https://en.wikipedia.org/{link}\"\n",
        "  intro_text_soup = BeautifulSoup(re.get(url).content)\n",
        "  intro = intro_text_soup.find_all(\"p\")[1].get_text()\n",
        "  dyk['intro'] = intro"
      ],
      "metadata": {
        "id": "6DIU-xVdbVFc"
      },
      "execution_count": 10,
      "outputs": []
    },
    {
      "cell_type": "code",
      "source": [
        "did_you_know_list[0]"
      ],
      "metadata": {
        "colab": {
          "base_uri": "https://localhost:8080/"
        },
        "id": "MHbRwju_iPhM",
        "outputId": "ad82435f-0145-447e-f574-57320df9502b"
      },
      "execution_count": 14,
      "outputs": [
        {
          "output_type": "execute_result",
          "data": {
            "text/plain": [
              "{'text': '... that precursors to the killer toy include ventriloquist dummies such as Otto (pictured) in the 1929 film The Great Gabbo?',\n",
              " 'link': '/wiki/Killer_toy',\n",
              " 'intro': 'A killer toy is a stock character in horror fiction. They include toys, such as dolls and ventriloquist dummies, that come to life and seek to kill or otherwise carry out violence. The killer toy subverts the associations of childhood with innocence and lack of agency while invoking the uncanny nature of a lifelike toy. Killer toy fiction often invokes ideas of companionship and the corruption of children, sometimes taking place in dysfunctional or single parent homes. They have historically been associated with occultism and spirit possession, though artificial intelligence became more common in later works.\\n'}"
            ]
          },
          "metadata": {},
          "execution_count": 14
        }
      ]
    },
    {
      "cell_type": "code",
      "source": [
        "# let's do it again for the in the news section\n",
        "in_the_news = soup.find(id=\"mp-itn\").find_all(\"li\")\n",
        "\n",
        "in_the_news_list = []\n",
        "for itn in in_the_news:\n",
        "  text = itn.get_text()\n",
        "  link = itn.find(\"a\")[\"href\"]\n",
        "\n",
        "  # notice that this part is different from above\n",
        "  # which do you think makes the most sense performance-wise? \n",
        "  url = f\"https://en.wikipedia.org/{link}\"\n",
        "  intro_text_soup = BeautifulSoup(re.get(url).content)\n",
        "  intro = intro_text_soup.find_all(\"p\")[1].get_text()\n",
        "  itn['intro'] = intro\n",
        "  in_the_news_list.append({\n",
        "      \"text\": text,\n",
        "      \"link\": link,\n",
        "      \"intro\": intro\n",
        "  })\n"
      ],
      "metadata": {
        "id": "luvuPpJ6fo0w"
      },
      "execution_count": 15,
      "outputs": []
    },
    {
      "cell_type": "code",
      "source": [],
      "metadata": {
        "id": "pXT-xB48_1I9"
      },
      "execution_count": null,
      "outputs": []
    },
    {
      "cell_type": "code",
      "source": [
        "in_the_news_list[0]"
      ],
      "metadata": {
        "colab": {
          "base_uri": "https://localhost:8080/"
        },
        "id": "e4P0fWJkfpLZ",
        "outputId": "81edf64e-28a7-47c5-8470-db4621784fb8"
      },
      "execution_count": 17,
      "outputs": [
        {
          "output_type": "execute_result",
          "data": {
            "text/plain": [
              "{'text': 'The European Space Agency launches the Jupiter Icy Moons Explorer (JUICE) to study Ganymede, Europa and  Callisto (trajectory pictured).',\n",
              " 'link': '/wiki/European_Space_Agency',\n",
              " 'intro': 'The European Space Agency[a] is an intergovernmental organisation of 22 member states[7] dedicated to the exploration of space. Established in 1975 and headquartered in Paris, ESA has a worldwide staff of about 2,200 in 2018[8] and an annual budget of about €4.9\\xa0billion in 2023.[4]\\n'}"
            ]
          },
          "metadata": {},
          "execution_count": 17
        }
      ]
    },
    {
      "cell_type": "code",
      "source": [
        "# Your turn! Do it for the \"On this day\" section!\n",
        "# Take into account that the first item might not be in a <li> tag\n",
        "# let's do it again for the in the news section\n",
        "on_this_day = soup.find(id=\"mp-otd\").find_all(\"li\")\n",
        "\n",
        "on_this_day_list = []\n",
        "for otd in on_this_day:\n",
        "  text = otd.get_text()\n",
        "  link = otd.find(\"a\")[\"href\"]\n",
        "\n",
        "on_this_day_list.append({\n",
        "      \"text\": text,\n",
        "      \"link\": link,\n",
        "      \"intro\": intro\n",
        "  })\n",
        "\n",
        "\n",
        "print(on_this_day)"
      ],
      "metadata": {
        "id": "KY89XDDEfpXB",
        "outputId": "65f428a5-cf7d-423e-8633-43a89cae2639",
        "colab": {
          "base_uri": "https://localhost:8080/"
        }
      },
      "execution_count": 29,
      "outputs": [
        {
          "output_type": "stream",
          "name": "stdout",
          "text": [
            "[<li><a href=\"/wiki/1632\" title=\"1632\">1632</a> – <a href=\"/wiki/Thirty_Years%27_War\" title=\"Thirty Years' War\">Thirty Years' War</a>: A Swedish–German army defeated the forces of the <a href=\"/wiki/Catholic_League_(German)\" title=\"Catholic League (German)\">Catholic League</a> at the <b><a href=\"/wiki/Battle_of_Rain\" title=\"Battle of Rain\">Battle of Rain</a></b>, mortally wounding their commander <a href=\"/wiki/Johann_Tserclaes,_Count_of_Tilly\" title=\"Johann Tserclaes, Count of Tilly\">Johann Tserclaes, Count of Tilly</a>.</li>, <li><a href=\"/wiki/1923\" title=\"1923\">1923</a> – Ten Japanese-American children were killed in <b><a href=\"/wiki/Nihon_Sh%C5%8Dgakk%C5%8D_fire\" title=\"Nihon Shōgakkō fire\">a racially motivated arson attack on a school</a></b> in <a href=\"/wiki/Sacramento,_California\" title=\"Sacramento, California\">Sacramento, California</a>.</li>, <li><a href=\"/wiki/1936\" title=\"1936\">1936</a> – <b><a href=\"/wiki/1936_Tulkarm_shooting\" title=\"1936 Tulkarm shooting\">Two Jews were killed</a></b> near <a href=\"/wiki/Tulkarm\" title=\"Tulkarm\">Tulkarm</a> in <a href=\"/wiki/Mandatory_Palestine\" title=\"Mandatory Palestine\">Mandatory Palestine</a>,  an act widely viewed as the beginning of violence within the <a href=\"/wiki/1936%E2%80%931939_Arab_revolt_in_Palestine\" title=\"1936–1939 Arab revolt in Palestine\">Arab revolt</a>.</li>, <li><a href=\"/wiki/1989\" title=\"1989\">1989</a> – The <b><a href=\"/wiki/Hillsborough_disaster\" title=\"Hillsborough disaster\">Hillsborough disaster</a></b>, a human crush that caused 97 deaths in the worst disaster in British sporting history, occurred during an <a href=\"/wiki/FA_Cup\" title=\"FA Cup\">FA Cup</a> match between <a href=\"/wiki/Liverpool_F.C.\" title=\"Liverpool F.C.\">Liverpool</a> and <a href=\"/wiki/Nottingham_Forest_F.C.\" title=\"Nottingham Forest F.C.\">Nottingham Forest</a> in <a href=\"/wiki/Sheffield\" title=\"Sheffield\">Sheffield</a>.</li>, <li><a href=\"/wiki/2019\" title=\"2019\">2019</a> – <b><a href=\"/wiki/Notre-Dame_fire\" title=\"Notre-Dame fire\">A fire</a></b> <i>(pictured)</i> severely damaged <a href=\"/wiki/Notre-Dame_de_Paris\" title=\"Notre-Dame de Paris\">Notre-Dame de Paris</a>, destroying <a href=\"/wiki/Spire_of_Notre-Dame_de_Paris\" title=\"Spire of Notre-Dame de Paris\">the cathedral's timber spire</a> and much of the roof.</li>, <li><b><a href=\"/wiki/Leonardo_da_Vinci\" title=\"Leonardo da Vinci\">Leonardo da Vinci</a></b>  (<abbr title=\"born\">b.</abbr> 1452)</li>, <li><b><a href=\"/wiki/Claudia_Cardinale\" title=\"Claudia Cardinale\">Claudia Cardinale</a></b>  (<abbr title=\"born\">b.</abbr> 1938)</li>, <li><b><a href=\"/wiki/Emma_Watson\" title=\"Emma Watson\">Emma Watson</a></b>  (<abbr title=\"born\">b.</abbr> 1990)</li>, <li><a href=\"/wiki/April_14\" title=\"April 14\">April 14</a></li>, <li><b><a href=\"/wiki/April_15\" title=\"April 15\">April 15</a></b></li>, <li><a href=\"/wiki/April_16\" title=\"April 16\">April 16</a></li>, <li><b><a href=\"/wiki/Wikipedia:Selected_anniversaries/April\" title=\"Wikipedia:Selected anniversaries/April\">Archive</a></b></li>, <li><b><a class=\"extiw\" href=\"https://lists.wikimedia.org/postorius/lists/daily-article-l.lists.wikimedia.org/\" title=\"mail:daily-article-l\">By email</a></b></li>, <li><b><a href=\"/wiki/List_of_days_of_the_year\" title=\"List of days of the year\">List of days of the year</a></b></li>]\n"
          ]
        }
      ]
    },
    {
      "cell_type": "code",
      "source": [],
      "metadata": {
        "id": "g_ErSRM6fpjf"
      },
      "execution_count": null,
      "outputs": []
    },
    {
      "cell_type": "code",
      "source": [],
      "metadata": {
        "id": "Snzwx-R-erwJ"
      },
      "execution_count": null,
      "outputs": []
    },
    {
      "cell_type": "markdown",
      "source": [
        "## NY Times\n",
        "\n",
        "Exercise:\n",
        "\n",
        "1. Get all article titles from the main page `https://www.nytimes.com/international/`\n",
        "2. For each, get:\n",
        "   - title\n",
        "   - summary of the article\n",
        "   - reading time\n",
        "   - link to it\n",
        "\n",
        "What would be the follow up to this?\n"
      ],
      "metadata": {
        "id": "wmJQI2OLjd5I"
      }
    },
    {
      "cell_type": "code",
      "source": [
        "req = re.get(\"https://www.nytimes.com/international/\")\n",
        "soup = BeautifulSoup(req.content, \"html.parser\")\n"
      ],
      "metadata": {
        "id": "xntt_CaTjCH3"
      },
      "execution_count": null,
      "outputs": []
    },
    {
      "cell_type": "code",
      "source": [
        "story_wrappers = soup.find_all(\"section\", class_=\"story-wrapper\")\n",
        "stories = []\n",
        "for story in story_wrappers:\n",
        "  try:\n",
        "    title = story.find(class_=\"indicate-hover\").get_text()\n",
        "  except:\n",
        "    title = \"\"\n",
        "  try:\n",
        "    summary = story.find(\"p\", class_=\"summary-class\").get_text()\n",
        "  except:\n",
        "    summary = \"\"\n",
        "  try:\n",
        "    reading_time = story.find(\"p\", class_=\"css-1esztn\").get_text()\n",
        "  except:\n",
        "    reading_time = \"\"\n",
        "  try:\n",
        "    link = story.find(\"a\")[\"href\"]\n",
        "  except:\n",
        "    link = \"\"\n",
        "  stories.append((title, summary, reading_time, link))\n"
      ],
      "metadata": {
        "id": "BQqU7KUOjCZA"
      },
      "execution_count": null,
      "outputs": []
    },
    {
      "cell_type": "code",
      "source": [
        "stories[:10]"
      ],
      "metadata": {
        "colab": {
          "base_uri": "https://localhost:8080/"
        },
        "id": "PPlzFofBygHq",
        "outputId": "bf4cae45-d9a6-4cad-e7c4-7057dccefdca"
      },
      "execution_count": null,
      "outputs": [
        {
          "output_type": "execute_result",
          "data": {
            "text/plain": [
              "[('F.B.I. Is Searching Home of Leader of Online Group Where Secrets Appeared',\n",
              "  'Officials are looking for the person who shared classified documents about the Ukraine war.',\n",
              "  '',\n",
              "  'https://www.nytimes.com/live/2023/04/13/us/documents-leak-pentagon'),\n",
              " ('Leader of Chat Group That Leaked Documents Is Air National Guardsman',\n",
              "  'The national guardsman oversaw a private online group named Thug Shaker Central, according to interviews and documents reviewed by The Times.',\n",
              "  '3 min read',\n",
              "  'https://www.nytimes.com/2023/04/13/world/documents-leak-leaker-identity.html'),\n",
              " ('The leaked documents show broad infighting among Russian officials.',\n",
              "  '',\n",
              "  '4 min read',\n",
              "  'https://www.nytimes.com/2023/04/13/world/europe/russia-intelligence-leaks.html'),\n",
              " ('U.S. allies appear to be mostly shrugging off the latest examples of apparent spying.',\n",
              "  '',\n",
              "  '6 min read',\n",
              "  'https://www.nytimes.com/2023/04/13/us/politics/us-spying-allies.html'),\n",
              " ('What do leaked U.S. intelligence reports say? Here is a quick guide.',\n",
              "  '',\n",
              "  '5 min read',\n",
              "  'https://www.nytimes.com/article/leaked-documents-ukraine-russia-war.html'),\n",
              " ('On a visit to Ireland, President Biden is aiming to shore up support for Ukraine.',\n",
              "  '',\n",
              "  '',\n",
              "  'https://www.nytimes.com/live/2023/04/13/world/russia-ukraine-news'),\n",
              " ('Justice Department to Seek Emergency Supreme Court Action on Abortion Ruling',\n",
              "  'The agency will challenge a ruling that blocked the abortion pill mifepristone from being sent by the mail and rolled back other measures expanding access.',\n",
              "  '6 min read',\n",
              "  'https://www.nytimes.com/2023/04/13/health/abortion-pill-ruling-appeal.html'),\n",
              " ('Inside the Online Market for Overseas Abortion Pills',\n",
              "  'For-profit sellers are meeting the demand for unregulated abortion pills — one that will only grow if legal access in the U.S. is further restricted.',\n",
              "  '',\n",
              "  'https://www.nytimes.com/interactive/2023/04/13/us/abortion-pill-order-online-mifepristone.html'),\n",
              " ('More than 100 studies have concluded abortion pills are safe. Here’s the evidence.',\n",
              "  '',\n",
              "  '5 min read',\n",
              "  'https://www.nytimes.com/interactive/2023/04/01/health/abortion-pill-safety.html'),\n",
              " ('Landmark Trial Against Fox News Could Affect the Future of Libel Law',\n",
              "  'Dominion Voting Systems’ defamation case against the network will tackle misinformation and the limits of journalistic responsibility.',\n",
              "  '5 min read',\n",
              "  'https://www.nytimes.com/2023/04/13/business/media/fox-dominion-libel-trial.html')]"
            ]
          },
          "metadata": {},
          "execution_count": 47
        }
      ]
    },
    {
      "cell_type": "code",
      "source": [],
      "metadata": {
        "id": "L76uQSMwy0XB"
      },
      "execution_count": null,
      "outputs": []
    }
  ]
}